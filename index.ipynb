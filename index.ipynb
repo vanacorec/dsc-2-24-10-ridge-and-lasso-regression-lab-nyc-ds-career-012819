{
 "cells": [
  {
   "cell_type": "markdown",
   "metadata": {},
   "source": [
    "# Ridge and Lasso Regression - Lab"
   ]
  },
  {
   "cell_type": "markdown",
   "metadata": {},
   "source": [
    "## Introduction"
   ]
  },
  {
   "cell_type": "markdown",
   "metadata": {},
   "source": [
    "In this lab, you'll practice your knowledge on Ridge and Lasso regression!"
   ]
  },
  {
   "cell_type": "markdown",
   "metadata": {},
   "source": [
    "## Objectives"
   ]
  },
  {
   "cell_type": "markdown",
   "metadata": {},
   "source": [
    "You will be able to:"
   ]
  },
  {
   "cell_type": "markdown",
   "metadata": {},
   "source": [
    "- Use Lasso and ridge regression in Python\n",
    "- Compare Lasso and Ridge with standard regression"
   ]
  },
  {
   "cell_type": "markdown",
   "metadata": {},
   "source": [
    "## Housing Prices Data"
   ]
  },
  {
   "cell_type": "markdown",
   "metadata": {},
   "source": [
    "Let's look at yet another house pricing data set."
   ]
  },
  {
   "cell_type": "code",
   "execution_count": 2,
   "metadata": {},
   "outputs": [],
   "source": [
    "import pandas as pd\n",
    "import warnings\n",
    "warnings.filterwarnings('ignore')\n",
    "\n",
    "df = pd.read_csv('Housing_Prices/train.csv')"
   ]
  },
  {
   "cell_type": "markdown",
   "metadata": {},
   "source": [
    "Look at df.info"
   ]
  },
  {
   "cell_type": "code",
   "execution_count": 42,
   "metadata": {},
   "outputs": [
    {
     "name": "stdout",
     "output_type": "stream",
     "text": [
      "<class 'pandas.core.frame.DataFrame'>\n",
      "RangeIndex: 1460 entries, 0 to 1459\n",
      "Data columns (total 81 columns):\n",
      "Id               1460 non-null int64\n",
      "MSSubClass       1460 non-null int64\n",
      "MSZoning         1460 non-null object\n",
      "LotFrontage      1201 non-null float64\n",
      "LotArea          1460 non-null int64\n",
      "Street           1460 non-null object\n",
      "Alley            91 non-null object\n",
      "LotShape         1460 non-null object\n",
      "LandContour      1460 non-null object\n",
      "Utilities        1460 non-null object\n",
      "LotConfig        1460 non-null object\n",
      "LandSlope        1460 non-null object\n",
      "Neighborhood     1460 non-null object\n",
      "Condition1       1460 non-null object\n",
      "Condition2       1460 non-null object\n",
      "BldgType         1460 non-null object\n",
      "HouseStyle       1460 non-null object\n",
      "OverallQual      1460 non-null int64\n",
      "OverallCond      1460 non-null int64\n",
      "YearBuilt        1460 non-null int64\n",
      "YearRemodAdd     1460 non-null int64\n",
      "RoofStyle        1460 non-null object\n",
      "RoofMatl         1460 non-null object\n",
      "Exterior1st      1460 non-null object\n",
      "Exterior2nd      1460 non-null object\n",
      "MasVnrType       1452 non-null object\n",
      "MasVnrArea       1452 non-null float64\n",
      "ExterQual        1460 non-null object\n",
      "ExterCond        1460 non-null object\n",
      "Foundation       1460 non-null object\n",
      "BsmtQual         1423 non-null object\n",
      "BsmtCond         1423 non-null object\n",
      "BsmtExposure     1422 non-null object\n",
      "BsmtFinType1     1423 non-null object\n",
      "BsmtFinSF1       1460 non-null int64\n",
      "BsmtFinType2     1422 non-null object\n",
      "BsmtFinSF2       1460 non-null int64\n",
      "BsmtUnfSF        1460 non-null int64\n",
      "TotalBsmtSF      1460 non-null int64\n",
      "Heating          1460 non-null object\n",
      "HeatingQC        1460 non-null object\n",
      "CentralAir       1460 non-null object\n",
      "Electrical       1459 non-null object\n",
      "1stFlrSF         1460 non-null int64\n",
      "2ndFlrSF         1460 non-null int64\n",
      "LowQualFinSF     1460 non-null int64\n",
      "GrLivArea        1460 non-null int64\n",
      "BsmtFullBath     1460 non-null int64\n",
      "BsmtHalfBath     1460 non-null int64\n",
      "FullBath         1460 non-null int64\n",
      "HalfBath         1460 non-null int64\n",
      "BedroomAbvGr     1460 non-null int64\n",
      "KitchenAbvGr     1460 non-null int64\n",
      "KitchenQual      1460 non-null object\n",
      "TotRmsAbvGrd     1460 non-null int64\n",
      "Functional       1460 non-null object\n",
      "Fireplaces       1460 non-null int64\n",
      "FireplaceQu      770 non-null object\n",
      "GarageType       1379 non-null object\n",
      "GarageYrBlt      1379 non-null float64\n",
      "GarageFinish     1379 non-null object\n",
      "GarageCars       1460 non-null int64\n",
      "GarageArea       1460 non-null int64\n",
      "GarageQual       1379 non-null object\n",
      "GarageCond       1379 non-null object\n",
      "PavedDrive       1460 non-null object\n",
      "WoodDeckSF       1460 non-null int64\n",
      "OpenPorchSF      1460 non-null int64\n",
      "EnclosedPorch    1460 non-null int64\n",
      "3SsnPorch        1460 non-null int64\n",
      "ScreenPorch      1460 non-null int64\n",
      "PoolArea         1460 non-null int64\n",
      "PoolQC           7 non-null object\n",
      "Fence            281 non-null object\n",
      "MiscFeature      54 non-null object\n",
      "MiscVal          1460 non-null int64\n",
      "MoSold           1460 non-null int64\n",
      "YrSold           1460 non-null int64\n",
      "SaleType         1460 non-null object\n",
      "SaleCondition    1460 non-null object\n",
      "SalePrice        1460 non-null int64\n",
      "dtypes: float64(3), int64(35), object(43)\n",
      "memory usage: 924.0+ KB\n"
     ]
    }
   ],
   "source": [
    "# Your code here\n",
    "\n",
    "df.info()"
   ]
  },
  {
   "cell_type": "markdown",
   "metadata": {},
   "source": [
    "We'll make a first selection of the data by removing some of the data with `dtype = object`, this way our first model only contains **continuous features**\n",
    "\n",
    "Make sure to remove the SalesPrice column from the predictors (which you store in `X`), then replace missing inputs by the median per feature.\n",
    "\n",
    "Store the target in `y`."
   ]
  },
  {
   "cell_type": "code",
   "execution_count": 43,
   "metadata": {},
   "outputs": [],
   "source": [
    "# Load necessary packages\n",
    "import numpy as np\n",
    "from sklearn.model_selection import train_test_split\n",
    "from sklearn.linear_model import LinearRegression\n",
    "\n",
    "# remove \"object\"-type features and SalesPrice from `X`\n",
    "X = df.select_dtypes(exclude=['object'])\n",
    "X.drop(columns = 'SalePrice', inplace = True)\n",
    "\n",
    "# Impute null values\n",
    "for column in X:\n",
    "    median = X[column].median()\n",
    "    X[column].fillna(value = median, inplace=True)\n",
    "\n",
    "\n",
    "\n",
    "\n",
    "# Create y\n",
    "y = df[\"SalePrice\"]\n"
   ]
  },
  {
   "cell_type": "markdown",
   "metadata": {},
   "source": [
    "Look at the information of `X` again"
   ]
  },
  {
   "cell_type": "code",
   "execution_count": 44,
   "metadata": {},
   "outputs": [
    {
     "name": "stdout",
     "output_type": "stream",
     "text": [
      "<class 'pandas.core.frame.DataFrame'>\n",
      "RangeIndex: 1460 entries, 0 to 1459\n",
      "Data columns (total 37 columns):\n",
      "Id               1460 non-null int64\n",
      "MSSubClass       1460 non-null int64\n",
      "LotFrontage      1460 non-null float64\n",
      "LotArea          1460 non-null int64\n",
      "OverallQual      1460 non-null int64\n",
      "OverallCond      1460 non-null int64\n",
      "YearBuilt        1460 non-null int64\n",
      "YearRemodAdd     1460 non-null int64\n",
      "MasVnrArea       1460 non-null float64\n",
      "BsmtFinSF1       1460 non-null int64\n",
      "BsmtFinSF2       1460 non-null int64\n",
      "BsmtUnfSF        1460 non-null int64\n",
      "TotalBsmtSF      1460 non-null int64\n",
      "1stFlrSF         1460 non-null int64\n",
      "2ndFlrSF         1460 non-null int64\n",
      "LowQualFinSF     1460 non-null int64\n",
      "GrLivArea        1460 non-null int64\n",
      "BsmtFullBath     1460 non-null int64\n",
      "BsmtHalfBath     1460 non-null int64\n",
      "FullBath         1460 non-null int64\n",
      "HalfBath         1460 non-null int64\n",
      "BedroomAbvGr     1460 non-null int64\n",
      "KitchenAbvGr     1460 non-null int64\n",
      "TotRmsAbvGrd     1460 non-null int64\n",
      "Fireplaces       1460 non-null int64\n",
      "GarageYrBlt      1460 non-null float64\n",
      "GarageCars       1460 non-null int64\n",
      "GarageArea       1460 non-null int64\n",
      "WoodDeckSF       1460 non-null int64\n",
      "OpenPorchSF      1460 non-null int64\n",
      "EnclosedPorch    1460 non-null int64\n",
      "3SsnPorch        1460 non-null int64\n",
      "ScreenPorch      1460 non-null int64\n",
      "PoolArea         1460 non-null int64\n",
      "MiscVal          1460 non-null int64\n",
      "MoSold           1460 non-null int64\n",
      "YrSold           1460 non-null int64\n",
      "dtypes: float64(3), int64(34)\n",
      "memory usage: 422.1 KB\n"
     ]
    }
   ],
   "source": [
    "X.info()"
   ]
  },
  {
   "cell_type": "markdown",
   "metadata": {},
   "source": [
    "## Let's use this data to perform a first naive linear regression model"
   ]
  },
  {
   "cell_type": "markdown",
   "metadata": {},
   "source": [
    "Compute the R squared and the MSE for both train and test set."
   ]
  },
  {
   "cell_type": "code",
   "execution_count": 45,
   "metadata": {},
   "outputs": [
    {
     "name": "stdout",
     "output_type": "stream",
     "text": [
      "Train R^2: 0.8792812746143956\n",
      "Test R^2: 0.45926221860708294\n",
      "Train MSE: 768735679.7667004\n",
      "Test MSE: 3266991413.4591403\n"
     ]
    }
   ],
   "source": [
    "from sklearn.metrics import mean_squared_error, mean_squared_log_error\n",
    "\n",
    "# Split in train and test\n",
    "X_train, X_test, y_train, y_test = train_test_split(X, y)\n",
    "\n",
    "# Fit the model and print R2 and MSE for train and test\n",
    "linreg = LinearRegression()\n",
    "linreg.fit(X_train, y_train)\n",
    "\n",
    "r2_train = linreg.score(X_train, y_train)\n",
    "r2_test = linreg.score(X_test, y_test)\n",
    "\n",
    "y_hat_train = linreg.predict(X_train)\n",
    "y_hat_test = linreg.predict(X_test)\n",
    "MSE_train = mean_squared_error(y_train, y_hat_train)\n",
    "MSE_test = mean_squared_error(y_test, y_hat_test)\n",
    "\n",
    "\n",
    "print(f\"Train R^2: {r2_train}\\nTest R^2: {r2_test}\")\n",
    "print(f\"Train MSE: {MSE_train}\\nTest MSE: {MSE_test}\")\n",
    "\n",
    "\n",
    "\n",
    "\n",
    "\n"
   ]
  },
  {
   "cell_type": "markdown",
   "metadata": {},
   "source": [
    "## Normalize your data"
   ]
  },
  {
   "cell_type": "markdown",
   "metadata": {},
   "source": [
    "We haven't normalized our data, let's create a new model that uses `preprocessing.scale` to scale our predictors!"
   ]
  },
  {
   "cell_type": "code",
   "execution_count": 46,
   "metadata": {
    "scrolled": false
   },
   "outputs": [],
   "source": [
    "from sklearn import preprocessing\n",
    "\n",
    "# Scale the data and perform train test split\n",
    "X_scaled = preprocessing.scale(X)\n",
    "\n",
    "X_scaled_train, X_scaled_test, y_scaled_train, y_scaled_test = train_test_split(X, y)"
   ]
  },
  {
   "cell_type": "markdown",
   "metadata": {},
   "source": [
    "Perform the same linear regression on this data and print out R-squared and MSE."
   ]
  },
  {
   "cell_type": "code",
   "execution_count": 47,
   "metadata": {},
   "outputs": [
    {
     "name": "stdout",
     "output_type": "stream",
     "text": [
      "For Normalized Dataset:\n",
      "Train R^2: 0.834520609586159\n",
      "Test R^2: 0.45926221860708294\n",
      "Train MSE : 768735679.7667004\n",
      "Test MSE: 3266991413.4591403\n"
     ]
    }
   ],
   "source": [
    "linreg_norm = LinearRegression()\n",
    "linreg_norm.fit(X_scaled_train, y_scaled_train)\n",
    "\n",
    "r2_scaled_train = linreg.score(X_scaled_train, y_scaled_train)\n",
    "r2_scaled_test = linreg.score(X_scaled_test, y_scaled_test)\n",
    "\n",
    "y_hat_scaled_train = linreg.predict(X_scaled_train)\n",
    "y_hat_scaled_test = linreg.predict(X_scaled_test)\n",
    "MSE_scaled_train = mean_squared_error(y_scaled_train, y_hat_scaled_train)\n",
    "MSE_scaled_train = mean_squared_error(y_scaled_test, y_hat_scaled_test)\n",
    "\n",
    "\n",
    "\n",
    "\n",
    "print(f\"For Normalized Dataset:\")\n",
    "print(f\"Train R^2: {r2_scaled_train}\\nTest R^2: {r2_test}\")\n",
    "print(f\"Train MSE : {MSE_train}\\nTest MSE: {MSE_test}\")\n"
   ]
  },
  {
   "cell_type": "markdown",
   "metadata": {},
   "source": [
    "## Include dummy variables"
   ]
  },
  {
   "cell_type": "markdown",
   "metadata": {},
   "source": [
    "We haven't included dummy variables so far: let's use our \"object\" variables again and create dummies"
   ]
  },
  {
   "cell_type": "code",
   "execution_count": 52,
   "metadata": {},
   "outputs": [],
   "source": [
    "# Create X_cat which contains only the categorical variables\n",
    "X_cat = df.select_dtypes(include=['object'])\n",
    "# (1460, 43) -> 43 rows\n"
   ]
  },
  {
   "cell_type": "code",
   "execution_count": 53,
   "metadata": {},
   "outputs": [],
   "source": [
    "# Make dummies\n",
    "X_cat = pd.get_dummies(X_cat)\n",
    "# X_cat.shape = (1460, 252) -> 252 rows"
   ]
  },
  {
   "cell_type": "markdown",
   "metadata": {},
   "source": [
    "Merge `x_cat` together with our scaled `X` so you have one big predictor dataframe."
   ]
  },
  {
   "cell_type": "code",
   "execution_count": 55,
   "metadata": {},
   "outputs": [],
   "source": [
    "# Your code here\n",
    "\n",
    "X_all = pd.concat([pd.DataFrame(X_scaled), X_cat], axis = 1)"
   ]
  },
  {
   "cell_type": "code",
   "execution_count": 59,
   "metadata": {
    "scrolled": true
   },
   "outputs": [
    {
     "data": {
      "text/plain": [
       "((1460, 289), (1460, 37), (1460, 252))"
      ]
     },
     "execution_count": 59,
     "metadata": {},
     "output_type": "execute_result"
    }
   ],
   "source": [
    "X_all.shape, X_scaled.shape, X_cat.shape"
   ]
  },
  {
   "cell_type": "code",
   "execution_count": 61,
   "metadata": {},
   "outputs": [
    {
     "data": {
      "text/plain": [
       "<bound method DataFrame.info of              0         1         2         3         4         5         6  \\\n",
       "0    -1.730865  0.073375 -0.220875 -0.207142  0.651479 -0.517200  1.050994   \n",
       "1    -1.728492 -0.872563  0.460320 -0.091886 -0.071836  2.179628  0.156734   \n",
       "2    -1.726120  0.073375 -0.084636  0.073480  0.651479 -0.517200  0.984752   \n",
       "3    -1.723747  0.309859 -0.447940 -0.096897  0.651479 -0.517200 -1.863632   \n",
       "4    -1.721374  0.073375  0.641972  0.375148  1.374795 -0.517200  0.951632   \n",
       "5    -1.719002 -0.163109  0.687385  0.360616 -0.795151 -0.517200  0.719786   \n",
       "6    -1.716629 -0.872563  0.233255 -0.043379  1.374795 -0.517200  1.084115   \n",
       "7    -1.714256  0.073375 -0.039223 -0.013513  0.651479  0.381743  0.057371   \n",
       "8    -1.711883 -0.163109 -0.856657 -0.440659  0.651479 -0.517200 -1.333700   \n",
       "9    -1.709511  3.147673 -0.902070 -0.310370 -0.795151  0.381743 -1.068734   \n",
       "10   -1.707138 -0.872563  0.006190  0.068469 -0.795151 -0.517200 -0.207594   \n",
       "11   -1.704765  0.073375  0.687385  0.141030  2.098110 -0.517200  1.117235   \n",
       "12   -1.702393 -0.872563 -0.039223  0.245661 -0.795151  0.381743 -0.306957   \n",
       "13   -1.700020 -0.872563  0.959863  0.013547  0.651479 -0.517200  1.150356   \n",
       "14   -1.697647 -0.872563 -0.039223  0.040407 -0.071836 -0.517200 -0.373198   \n",
       "15   -1.695275 -0.281352 -0.856657 -0.440659  0.651479  2.179628 -1.399941   \n",
       "16   -1.692902 -0.872563 -0.039223  0.072578 -0.071836  1.280685 -0.041991   \n",
       "17   -1.690529  0.782828  0.097016  0.027478 -1.518467 -0.517200 -0.141353   \n",
       "18   -1.688157 -0.872563 -0.175462  0.318523 -0.795151 -0.517200  1.084115   \n",
       "19   -1.685784 -0.872563  0.006190 -0.296339 -0.795151  0.381743 -0.439440   \n",
       "20   -1.683411  0.073375  1.413992  0.370638  1.374795 -0.517200  1.117235   \n",
       "21   -1.681039 -0.281352 -0.584179 -0.307464  0.651479  1.280685 -1.366820   \n",
       "22   -1.678666 -0.872563  0.233255 -0.077655  1.374795 -0.517200  1.017873   \n",
       "23   -1.676293  1.492282 -1.174548 -0.630680 -0.795151  1.280685  0.156734   \n",
       "24   -1.673921 -0.872563 -0.039223 -0.227587 -0.795151  2.179628 -0.108232   \n",
       "25   -1.671548 -0.872563  1.822709  0.372142  1.374795 -0.517200  1.183477   \n",
       "26   -1.669175 -0.872563 -0.447940 -0.332419 -0.795151  1.280685 -0.671285   \n",
       "27   -1.666803 -0.872563  1.277754  0.096331  1.374795 -0.517200  1.183477   \n",
       "28   -1.664430 -0.872563 -1.038309  0.581706 -0.795151  0.381743 -0.472560   \n",
       "29   -1.662057 -0.636078 -0.447940 -0.420214 -1.518467  0.381743 -1.466183   \n",
       "...        ...       ...       ...       ...       ...       ...       ...   \n",
       "1430  1.662057  0.073375 -0.447940  1.143851 -0.795151 -0.517200  1.117235   \n",
       "1431  1.664430  1.492282 -0.039223 -0.560124 -0.071836  0.381743  0.156734   \n",
       "1432  1.666803 -0.636078 -0.447940  0.028380 -1.518467  0.381743 -1.466183   \n",
       "1433  1.669175  0.073375  1.050689 -0.025640 -0.071836 -0.517200  0.951632   \n",
       "1434  1.671548 -0.872563  0.460320  0.689845 -0.795151 -0.517200  0.189854   \n",
       "1435  1.673921 -0.872563  0.460320 -0.212153 -0.071836  3.078570 -0.306957   \n",
       "1436  1.676293 -0.872563 -0.447940 -0.152020 -1.518467  0.381743 -0.008870   \n",
       "1437  1.678666 -0.872563  1.186928  0.193145  1.374795 -0.517200  1.216598   \n",
       "1438  1.681039 -0.872563  0.914450 -0.311673 -0.071836  1.280685 -0.472560   \n",
       "1439  1.683411  0.073375  0.460320  0.106954  0.651479  0.381743  0.256096   \n",
       "1440  1.685784  0.309859  0.414907  0.101141 -0.071836  1.280685 -1.631786   \n",
       "1441  1.688157  1.492282 -0.039223 -0.610435 -0.071836 -0.517200  1.084115   \n",
       "1442  1.690529  0.073375  0.687385  0.048725  2.821425 -0.517200  1.216598   \n",
       "1443  1.692902 -0.636078 -0.039223 -0.166652 -0.071836  0.381743 -1.830511   \n",
       "1444  1.695275 -0.872563 -0.311701 -0.202131  0.651479 -0.517200  1.084115   \n",
       "1445  1.697647  0.664586  0.006190 -0.212153 -0.071836 -0.517200 -0.174474   \n",
       "1446  1.700020 -0.872563 -0.039223  1.565986 -0.795151  1.280685 -0.306957   \n",
       "1447  1.702393  0.073375  0.460320 -0.051798  1.374795 -0.517200  0.786028   \n",
       "1448  1.704765 -0.163109  0.006190  0.125295 -1.518467  1.280685 -2.029235   \n",
       "1449  1.707138  2.911188 -2.219047 -0.900377 -0.795151  1.280685 -0.041991   \n",
       "1450  1.709511  0.782828 -0.447940 -0.152020 -0.795151 -0.517200  0.090492   \n",
       "1451  1.711883 -0.872563  0.369494 -0.125761  1.374795 -0.517200  1.216598   \n",
       "1452  1.714256  2.911188 -1.583265 -0.685702 -0.795151 -0.517200  1.117235   \n",
       "1453  1.716629 -0.872563  0.914450  0.671505 -0.795151 -0.517200  1.150356   \n",
       "1454  1.719002 -0.872563 -0.357114 -0.302353  0.651479 -0.517200  1.084115   \n",
       "1455  1.721374  0.073375 -0.357114 -0.260560 -0.071836 -0.517200  0.918511   \n",
       "1456  1.723747 -0.872563  0.687385  0.266407 -0.071836  0.381743  0.222975   \n",
       "1457  1.726120  0.309859 -0.175462 -0.147810  0.651479  3.078570 -1.002492   \n",
       "1458  1.728492 -0.872563 -0.084636 -0.080160 -0.795151  0.381743 -0.704406   \n",
       "1459  1.730865 -0.872563  0.233255 -0.058112 -0.795151  0.381743 -0.207594   \n",
       "\n",
       "             7         8         9          ...            SaleType_ConLw  \\\n",
       "0     0.878668  0.514104  0.575425          ...                         0   \n",
       "1    -0.429577 -0.570750  1.171992          ...                         0   \n",
       "2     0.830215  0.325915  0.092907          ...                         0   \n",
       "3    -0.720298 -0.570750 -0.499274          ...                         0   \n",
       "4     0.733308  1.366489  0.463568          ...                         0   \n",
       "5     0.491040 -0.570750  0.632450          ...                         0   \n",
       "6     0.975575  0.458754  2.029558          ...                         0   \n",
       "7    -0.574938  0.757643  0.910994          ...                         0   \n",
       "8    -1.689368 -0.570750 -0.973018          ...                         0   \n",
       "9    -1.689368 -0.570750  0.893448          ...                         0   \n",
       "10   -0.962566 -0.570750  1.014077          ...                         0   \n",
       "11    1.024029  1.012251  1.215857          ...                         0   \n",
       "12   -1.107926 -0.570750  0.643416          ...                         0   \n",
       "13    1.072482  1.122951 -0.973018          ...                         0   \n",
       "14   -1.204833  0.602663  0.634643          ...                         0   \n",
       "15    0.781761 -0.570750 -0.973018          ...                         0   \n",
       "16   -0.720298  0.425544  0.294687          ...                         0   \n",
       "17   -0.865659 -0.570750 -0.973018          ...                         0   \n",
       "18    0.927122 -0.570750  0.443829          ...                         0   \n",
       "19   -0.962566 -0.570750  0.132386          ...                         0   \n",
       "20    1.024029  1.532538 -0.973018          ...                         0   \n",
       "21   -1.689368 -0.570750 -0.973018          ...                         0   \n",
       "22    0.830215  0.984576 -0.973018          ...                         0   \n",
       "23   -0.429577 -0.570750  0.869322          ...                         0   \n",
       "24    0.781761 -0.570750 -0.560685          ...                         0   \n",
       "25    1.072482  2.971630 -0.973018          ...                         0   \n",
       "26    0.733308 -0.570750 -0.459795          ...                         0   \n",
       "27    1.120936  0.536244  1.698375          ...                         0   \n",
       "28    0.587947 -0.570750  1.827777          ...                         0   \n",
       "29   -1.689368 -0.570750 -0.973018          ...                         0   \n",
       "...        ...       ...       ...          ...                       ...   \n",
       "1430  0.975575 -0.570750 -0.973018          ...                         0   \n",
       "1431 -0.429577 -0.570750  1.128127          ...                         0   \n",
       "1432  1.072482 -0.570750 -0.973018          ...                         0   \n",
       "1433  0.733308  1.189370 -0.973018          ...                         0   \n",
       "1434 -0.381123 -0.570750  1.079875          ...                         0   \n",
       "1435  0.975575  0.741038 -0.973018          ...                         0   \n",
       "1436 -0.671845 -0.570750  0.378031          ...                         0   \n",
       "1437  1.120936  1.787147  1.957180          ...                         0   \n",
       "1438  0.539493 -0.570750  0.342939          ...                         0   \n",
       "1439 -0.284216 -0.039393 -0.282141          ...                         0   \n",
       "1440  0.442586 -0.570750 -0.973018          ...                         0   \n",
       "1441  0.927122  0.242890  0.555685          ...                         0   \n",
       "1442  1.120936  0.314845  0.704827          ...                         0   \n",
       "1443 -1.689368 -0.570750 -0.973018          ...                         0   \n",
       "1444  0.927122  0.015957 -0.973018          ...                         0   \n",
       "1445 -0.914112 -0.570750 -0.562878          ...                         0   \n",
       "1446 -1.107926  0.475359  0.327586          ...                         0   \n",
       "1447  0.539493  1.853567  1.393512          ...                         0   \n",
       "1448  0.733308 -0.570750 -0.973018          ...                         0   \n",
       "1449 -0.720298 -0.570750  0.239856          ...                         0   \n",
       "1450 -0.526484 -0.570750 -0.973018          ...                         0   \n",
       "1451  1.169389  0.503034 -0.973018          ...                         0   \n",
       "1452  0.975575 -0.127953  0.226696          ...                         0   \n",
       "1453  1.024029 -0.570750 -0.973018          ...                         0   \n",
       "1454  0.975575 -0.570750 -0.073781          ...                         0   \n",
       "1455  0.733308 -0.570750 -0.973018          ...                         0   \n",
       "1456  0.151865  0.087911  0.759659          ...                         0   \n",
       "1457  1.024029 -0.570750 -0.369871          ...                         0   \n",
       "1458  0.539493 -0.570750 -0.865548          ...                         0   \n",
       "1459 -0.962566 -0.570750  0.847389          ...                         0   \n",
       "\n",
       "      SaleType_New  SaleType_Oth  SaleType_WD  SaleCondition_Abnorml  \\\n",
       "0                0             0            1                      0   \n",
       "1                0             0            1                      0   \n",
       "2                0             0            1                      0   \n",
       "3                0             0            1                      1   \n",
       "4                0             0            1                      0   \n",
       "5                0             0            1                      0   \n",
       "6                0             0            1                      0   \n",
       "7                0             0            1                      0   \n",
       "8                0             0            1                      1   \n",
       "9                0             0            1                      0   \n",
       "10               0             0            1                      0   \n",
       "11               1             0            0                      0   \n",
       "12               0             0            1                      0   \n",
       "13               1             0            0                      0   \n",
       "14               0             0            1                      0   \n",
       "15               0             0            1                      0   \n",
       "16               0             0            1                      0   \n",
       "17               0             0            1                      0   \n",
       "18               0             0            1                      0   \n",
       "19               0             0            0                      1   \n",
       "20               1             0            0                      0   \n",
       "21               0             0            1                      0   \n",
       "22               0             0            1                      0   \n",
       "23               0             0            1                      0   \n",
       "24               0             0            1                      0   \n",
       "25               0             0            1                      0   \n",
       "26               0             0            1                      0   \n",
       "27               0             0            1                      0   \n",
       "28               0             0            1                      0   \n",
       "29               0             0            1                      0   \n",
       "...            ...           ...          ...                    ...   \n",
       "1430             0             0            1                      0   \n",
       "1431             0             0            1                      0   \n",
       "1432             0             0            1                      0   \n",
       "1433             0             0            1                      0   \n",
       "1434             0             0            1                      0   \n",
       "1435             0             0            0                      1   \n",
       "1436             0             0            1                      0   \n",
       "1437             1             0            0                      0   \n",
       "1438             0             0            1                      0   \n",
       "1439             0             0            1                      0   \n",
       "1440             0             0            1                      0   \n",
       "1441             0             0            1                      0   \n",
       "1442             0             0            1                      0   \n",
       "1443             0             0            1                      0   \n",
       "1444             0             0            1                      0   \n",
       "1445             0             0            1                      0   \n",
       "1446             0             0            1                      0   \n",
       "1447             0             0            1                      0   \n",
       "1448             0             0            1                      0   \n",
       "1449             0             0            1                      1   \n",
       "1450             0             0            1                      0   \n",
       "1451             1             0            0                      0   \n",
       "1452             0             0            1                      0   \n",
       "1453             0             0            1                      1   \n",
       "1454             0             0            1                      0   \n",
       "1455             0             0            1                      0   \n",
       "1456             0             0            1                      0   \n",
       "1457             0             0            1                      0   \n",
       "1458             0             0            1                      0   \n",
       "1459             0             0            1                      0   \n",
       "\n",
       "      SaleCondition_AdjLand  SaleCondition_Alloca  SaleCondition_Family  \\\n",
       "0                         0                     0                     0   \n",
       "1                         0                     0                     0   \n",
       "2                         0                     0                     0   \n",
       "3                         0                     0                     0   \n",
       "4                         0                     0                     0   \n",
       "5                         0                     0                     0   \n",
       "6                         0                     0                     0   \n",
       "7                         0                     0                     0   \n",
       "8                         0                     0                     0   \n",
       "9                         0                     0                     0   \n",
       "10                        0                     0                     0   \n",
       "11                        0                     0                     0   \n",
       "12                        0                     0                     0   \n",
       "13                        0                     0                     0   \n",
       "14                        0                     0                     0   \n",
       "15                        0                     0                     0   \n",
       "16                        0                     0                     0   \n",
       "17                        0                     0                     0   \n",
       "18                        0                     0                     0   \n",
       "19                        0                     0                     0   \n",
       "20                        0                     0                     0   \n",
       "21                        0                     0                     0   \n",
       "22                        0                     0                     0   \n",
       "23                        0                     0                     0   \n",
       "24                        0                     0                     0   \n",
       "25                        0                     0                     0   \n",
       "26                        0                     0                     0   \n",
       "27                        0                     0                     0   \n",
       "28                        0                     0                     0   \n",
       "29                        0                     0                     0   \n",
       "...                     ...                   ...                   ...   \n",
       "1430                      0                     0                     0   \n",
       "1431                      0                     0                     0   \n",
       "1432                      0                     0                     0   \n",
       "1433                      0                     0                     0   \n",
       "1434                      0                     0                     0   \n",
       "1435                      0                     0                     0   \n",
       "1436                      0                     0                     0   \n",
       "1437                      0                     0                     0   \n",
       "1438                      0                     0                     0   \n",
       "1439                      0                     0                     0   \n",
       "1440                      0                     0                     0   \n",
       "1441                      0                     0                     0   \n",
       "1442                      0                     0                     0   \n",
       "1443                      0                     0                     0   \n",
       "1444                      0                     0                     0   \n",
       "1445                      0                     0                     0   \n",
       "1446                      0                     0                     0   \n",
       "1447                      0                     0                     0   \n",
       "1448                      0                     0                     0   \n",
       "1449                      0                     0                     0   \n",
       "1450                      0                     0                     0   \n",
       "1451                      0                     0                     0   \n",
       "1452                      0                     0                     0   \n",
       "1453                      0                     0                     0   \n",
       "1454                      0                     0                     0   \n",
       "1455                      0                     0                     0   \n",
       "1456                      0                     0                     0   \n",
       "1457                      0                     0                     0   \n",
       "1458                      0                     0                     0   \n",
       "1459                      0                     0                     0   \n",
       "\n",
       "      SaleCondition_Normal  SaleCondition_Partial  \n",
       "0                        1                      0  \n",
       "1                        1                      0  \n",
       "2                        1                      0  \n",
       "3                        0                      0  \n",
       "4                        1                      0  \n",
       "5                        1                      0  \n",
       "6                        1                      0  \n",
       "7                        1                      0  \n",
       "8                        0                      0  \n",
       "9                        1                      0  \n",
       "10                       1                      0  \n",
       "11                       0                      1  \n",
       "12                       1                      0  \n",
       "13                       0                      1  \n",
       "14                       1                      0  \n",
       "15                       1                      0  \n",
       "16                       1                      0  \n",
       "17                       1                      0  \n",
       "18                       1                      0  \n",
       "19                       0                      0  \n",
       "20                       0                      1  \n",
       "21                       1                      0  \n",
       "22                       1                      0  \n",
       "23                       1                      0  \n",
       "24                       1                      0  \n",
       "25                       1                      0  \n",
       "26                       1                      0  \n",
       "27                       1                      0  \n",
       "28                       1                      0  \n",
       "29                       1                      0  \n",
       "...                    ...                    ...  \n",
       "1430                     1                      0  \n",
       "1431                     1                      0  \n",
       "1432                     1                      0  \n",
       "1433                     1                      0  \n",
       "1434                     1                      0  \n",
       "1435                     0                      0  \n",
       "1436                     1                      0  \n",
       "1437                     0                      1  \n",
       "1438                     1                      0  \n",
       "1439                     1                      0  \n",
       "1440                     1                      0  \n",
       "1441                     1                      0  \n",
       "1442                     1                      0  \n",
       "1443                     1                      0  \n",
       "1444                     1                      0  \n",
       "1445                     1                      0  \n",
       "1446                     1                      0  \n",
       "1447                     1                      0  \n",
       "1448                     1                      0  \n",
       "1449                     0                      0  \n",
       "1450                     1                      0  \n",
       "1451                     0                      1  \n",
       "1452                     1                      0  \n",
       "1453                     0                      0  \n",
       "1454                     1                      0  \n",
       "1455                     1                      0  \n",
       "1456                     1                      0  \n",
       "1457                     1                      0  \n",
       "1458                     1                      0  \n",
       "1459                     1                      0  \n",
       "\n",
       "[1460 rows x 289 columns]>"
      ]
     },
     "execution_count": 61,
     "metadata": {},
     "output_type": "execute_result"
    }
   ],
   "source": [
    "pd.DataFrame(x_all)"
   ]
  },
  {
   "cell_type": "markdown",
   "metadata": {},
   "source": [
    "Perform the same linear regression on this data and print out R-squared and MSE."
   ]
  },
  {
   "cell_type": "code",
   "execution_count": null,
   "metadata": {},
   "outputs": [],
   "source": [
    "# Your code here\n",
    "\n",
    "\n",
    "X_all_train, X_all_test, y_all_train, y_all_test = train_test_split(X_all, y_all)\n",
    "\n",
    "linreg_all = LinearRegression()\n",
    "linr"
   ]
  },
  {
   "cell_type": "markdown",
   "metadata": {},
   "source": [
    "Notice the severe overfitting above; our training R squared is quite high, but the testing R squared is negative! Our predictions are far far off. Similarly, the scale of the Testing MSE is orders of magnitude higher then that of the training."
   ]
  },
  {
   "cell_type": "markdown",
   "metadata": {},
   "source": [
    "## Perform Ridge and Lasso regression"
   ]
  },
  {
   "cell_type": "markdown",
   "metadata": {},
   "source": [
    "Use all the data (normalized features and dummy categorical variables) and perform Lasso and Ridge regression for both! Each time, look at R-squared and MSE."
   ]
  },
  {
   "cell_type": "markdown",
   "metadata": {},
   "source": [
    "## Lasso"
   ]
  },
  {
   "cell_type": "markdown",
   "metadata": {},
   "source": [
    "With default parameter (alpha = 1)"
   ]
  },
  {
   "cell_type": "code",
   "execution_count": null,
   "metadata": {},
   "outputs": [],
   "source": [
    "# Your code here"
   ]
  },
  {
   "cell_type": "markdown",
   "metadata": {},
   "source": [
    "With a higher regularization parameter (alpha = 10)"
   ]
  },
  {
   "cell_type": "code",
   "execution_count": null,
   "metadata": {},
   "outputs": [],
   "source": [
    "# Your code here"
   ]
  },
  {
   "cell_type": "markdown",
   "metadata": {},
   "source": [
    "## Ridge"
   ]
  },
  {
   "cell_type": "markdown",
   "metadata": {},
   "source": [
    "With default parameter (alpha = 1)"
   ]
  },
  {
   "cell_type": "code",
   "execution_count": null,
   "metadata": {},
   "outputs": [],
   "source": [
    "# Your code here"
   ]
  },
  {
   "cell_type": "markdown",
   "metadata": {},
   "source": [
    "With default parameter (alpha = 10)"
   ]
  },
  {
   "cell_type": "code",
   "execution_count": null,
   "metadata": {},
   "outputs": [],
   "source": [
    "# Your code here"
   ]
  },
  {
   "cell_type": "markdown",
   "metadata": {},
   "source": [
    "## Look at the metrics, what are your main conclusions?"
   ]
  },
  {
   "cell_type": "markdown",
   "metadata": {},
   "source": [
    "Conclusions here"
   ]
  },
  {
   "cell_type": "markdown",
   "metadata": {},
   "source": [
    "## Compare number of parameter estimates that are (very close to) 0 for Ridge and Lasso"
   ]
  },
  {
   "cell_type": "code",
   "execution_count": null,
   "metadata": {},
   "outputs": [],
   "source": [
    "# number of Ridge params almost zero"
   ]
  },
  {
   "cell_type": "code",
   "execution_count": null,
   "metadata": {},
   "outputs": [],
   "source": [
    "# number of Lasso params almost zero"
   ]
  },
  {
   "cell_type": "markdown",
   "metadata": {},
   "source": [
    "Compare with the total length of the parameter space and draw conclusions!"
   ]
  },
  {
   "cell_type": "code",
   "execution_count": null,
   "metadata": {},
   "outputs": [],
   "source": [
    "# your code here"
   ]
  },
  {
   "cell_type": "markdown",
   "metadata": {},
   "source": [
    "## Summary"
   ]
  },
  {
   "cell_type": "markdown",
   "metadata": {},
   "source": [
    "Great! You now know how to perform Lasso and Ridge regression."
   ]
  }
 ],
 "metadata": {
  "kernelspec": {
   "display_name": "Python 3",
   "language": "python",
   "name": "python3"
  },
  "language_info": {
   "codemirror_mode": {
    "name": "ipython",
    "version": 3
   },
   "file_extension": ".py",
   "mimetype": "text/x-python",
   "name": "python",
   "nbconvert_exporter": "python",
   "pygments_lexer": "ipython3",
   "version": "3.6.6"
  }
 },
 "nbformat": 4,
 "nbformat_minor": 2
}
